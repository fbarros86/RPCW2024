{
 "cells": [
  {
   "cell_type": "code",
   "execution_count": 13,
   "metadata": {},
   "outputs": [],
   "source": [
    "import pandas as pd\n",
    "import numpy as np\n",
    "import json\n",
    "\n",
    "# Load JSON data\n",
    "data = json.loads(open('datasets/countriesInfo.json').read())\n",
    "\n",
    "# Convert JSON to DataFrame\n",
    "df = pd.DataFrame.from_dict(data, orient='index')\n",
    "\n"
   ]
  },
  {
   "cell_type": "code",
   "execution_count": 14,
   "metadata": {},
   "outputs": [],
   "source": [
    "# Replace empty strings with NaN\n",
    "df.replace(\"\", np.nan, inplace=True)"
   ]
  },
  {
   "cell_type": "code",
   "execution_count": 15,
   "metadata": {},
   "outputs": [
    {
     "name": "stdout",
     "output_type": "stream",
     "text": [
      "nome                       0\n",
      "area                       0\n",
      "capital                    0\n",
      "densidade populacional     0\n",
      "espetativa de vida         0\n",
      "exportacoes                0\n",
      "gdp                        0\n",
      "hemisferio                 0\n",
      "importacoes                0\n",
      "lado em que conduz         0\n",
      "latitude                   0\n",
      "literacia                  0\n",
      "longitude                  0\n",
      "migracao liquida           0\n",
      "moeda                      0\n",
      "mortalidade infantil       0\n",
      "populacao                  0\n",
      "taxa de mortalidade        0\n",
      "taxa de natalidade         0\n",
      "telefones por 1000         0\n",
      "costa                      0\n",
      "temperatura media          0\n",
      "racio sexos                0\n",
      "taxa desemprego            0\n",
      "taxa fertilidade           0\n",
      "medicos por mil           75\n",
      "receita imposto           27\n",
      "emissoes co2               0\n",
      "flag                       0\n",
      "continente                 0\n",
      "dtype: int64\n"
     ]
    }
   ],
   "source": [
    "print(df.isnull().sum())"
   ]
  },
  {
   "cell_type": "code",
   "execution_count": 16,
   "metadata": {},
   "outputs": [
    {
     "name": "stdout",
     "output_type": "stream",
     "text": [
      "Flag && Continente\n",
      "Series([], Name: nome, dtype: object)\n",
      "Series([], Name: nome, dtype: object)\n"
     ]
    }
   ],
   "source": [
    "print(\"Flag && Continente\")\n",
    "print(df[df['flag'].isnull()]['nome'])\n",
    "print(df[df['continente'].isnull()]['nome'])\n"
   ]
  },
  {
   "cell_type": "code",
   "execution_count": 17,
   "metadata": {},
   "outputs": [
    {
     "name": "stdout",
     "output_type": "stream",
     "text": [
      "EXPECTATIVA DE VIDA\n",
      "Series([], Name: nome, dtype: object)\n"
     ]
    }
   ],
   "source": [
    "print(\"EXPECTATIVA DE VIDA\")\n",
    "print(df[df['espetativa de vida'].isnull()]['nome'])\n"
   ]
  },
  {
   "cell_type": "code",
   "execution_count": 18,
   "metadata": {},
   "outputs": [
    {
     "name": "stdout",
     "output_type": "stream",
     "text": [
      "EXPORTACOES\n",
      "Series([], Name: nome, dtype: object)\n"
     ]
    }
   ],
   "source": [
    "print(\"EXPORTACOES\")\n",
    "print(df[df['exportacoes'].isnull()]['nome'])"
   ]
  },
  {
   "cell_type": "code",
   "execution_count": 19,
   "metadata": {},
   "outputs": [
    {
     "name": "stdout",
     "output_type": "stream",
     "text": [
      "GDP\n",
      "Series([], Name: nome, dtype: object)\n"
     ]
    }
   ],
   "source": [
    "print(\"GDP\")\n",
    "print(df[df['gdp'].isnull()]['nome'])"
   ]
  },
  {
   "cell_type": "code",
   "execution_count": 20,
   "metadata": {},
   "outputs": [
    {
     "name": "stdout",
     "output_type": "stream",
     "text": [
      "HEMISFERIO\n",
      "Series([], Name: nome, dtype: object)\n"
     ]
    }
   ],
   "source": [
    "print(\"HEMISFERIO\")\n",
    "print(df[df['hemisferio'].isnull()]['nome'])"
   ]
  },
  {
   "cell_type": "code",
   "execution_count": 21,
   "metadata": {},
   "outputs": [
    {
     "name": "stdout",
     "output_type": "stream",
     "text": [
      "IMPORTACOES\n",
      "Series([], Name: nome, dtype: object)\n"
     ]
    }
   ],
   "source": [
    "print(\"IMPORTACOES\")\n",
    "print(df[df['importacoes'].isnull()]['nome'])"
   ]
  },
  {
   "cell_type": "code",
   "execution_count": 22,
   "metadata": {},
   "outputs": [
    {
     "name": "stdout",
     "output_type": "stream",
     "text": [
      "LATITUDE\n",
      "Series([], Name: nome, dtype: object)\n"
     ]
    }
   ],
   "source": [
    "print(\"LATITUDE\")\n",
    "print(df[df['latitude'].isnull()]['nome'])"
   ]
  },
  {
   "cell_type": "code",
   "execution_count": 23,
   "metadata": {},
   "outputs": [
    {
     "name": "stdout",
     "output_type": "stream",
     "text": [
      "MIGRACAO LIQUIDA\n",
      "Series([], Name: nome, dtype: object)\n",
      "MOEDA\n",
      "Series([], Name: nome, dtype: object)\n",
      "MORTALIDADE INFANTIL\n",
      "Series([], Name: nome, dtype: object)\n",
      "TAXA DE MORTALIDADE\n",
      "Series([], Name: nome, dtype: object)\n",
      "TAXA DE NATALIDADE\n",
      "Series([], Name: nome, dtype: object)\n",
      "TELEFONES POR 1000\n",
      "Series([], Name: nome, dtype: object)\n",
      "COSTA\n",
      "Series([], Name: nome, dtype: object)\n",
      "RACIO SEXOS\n",
      "Series([], Name: nome, dtype: object)\n",
      "TAXA DESEMPREGO\n",
      "Series([], Name: nome, dtype: object)\n",
      "TAXA FERTILIDADE\n",
      "Series([], Name: nome, dtype: object)\n",
      "EMISSOES CO2\n",
      "Series([], Name: nome, dtype: object)\n"
     ]
    }
   ],
   "source": [
    "#print de valores nulos de migracao liquida,moeda, mortalidade infantil,taxa de mortalidade,taxa de natalidade,telefones por 1000,costa,racio sexos,taxa desemprego,taxa fertilidade, emissoes co2\n",
    "print(\"MIGRACAO LIQUIDA\")\n",
    "print(df[df['migracao liquida'].isnull()]['nome'])\n",
    "print(\"MOEDA\")\n",
    "print(df[df['moeda'].isnull()]['nome'])\n",
    "print(\"MORTALIDADE INFANTIL\")\n",
    "print(df[df['mortalidade infantil'].isnull()]['nome'])\n",
    "print(\"TAXA DE MORTALIDADE\")\n",
    "print(df[df['taxa de mortalidade'].isnull()]['nome'])\n",
    "print(\"TAXA DE NATALIDADE\")\n",
    "print(df[df['taxa de natalidade'].isnull()]['nome'])\n",
    "print(\"TELEFONES POR 1000\")\n",
    "print(df[df['telefones por 1000'].isnull()]['nome'])\n",
    "print(\"COSTA\")\n",
    "print(df[df['costa'].isnull()]['nome'])\n",
    "print(\"RACIO SEXOS\")\n",
    "print(df[df['racio sexos'].isnull()]['nome'])\n",
    "print(\"TAXA DESEMPREGO\")\n",
    "print(df[df['taxa desemprego'].isnull()]['nome'])\n",
    "print(\"TAXA FERTILIDADE\")\n",
    "print(df[df['taxa fertilidade'].isnull()]['nome'])\n",
    "print(\"EMISSOES CO2\")\n",
    "print(df[df['emissoes co2'].isnull()]['nome'])\n",
    "\n",
    "                               "
   ]
  }
 ],
 "metadata": {
  "kernelspec": {
   "display_name": "Python 3",
   "language": "python",
   "name": "python3"
  },
  "language_info": {
   "codemirror_mode": {
    "name": "ipython",
    "version": 3
   },
   "file_extension": ".py",
   "mimetype": "text/x-python",
   "name": "python",
   "nbconvert_exporter": "python",
   "pygments_lexer": "ipython3",
   "version": "3.9.7"
  }
 },
 "nbformat": 4,
 "nbformat_minor": 2
}
